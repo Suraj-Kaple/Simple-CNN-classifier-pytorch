{
  "cells": [
    {
      "cell_type": "markdown",
      "metadata": {
        "id": "view-in-github",
        "colab_type": "text"
      },
      "source": [
        "<a href=\"https://colab.research.google.com/github/Suraj-Kaple/Simple-CNN-classifier-pytorch/blob/main/CNN_%2B_LSTM.ipynb\" target=\"_parent\"><img src=\"https://colab.research.google.com/assets/colab-badge.svg\" alt=\"Open In Colab\"/></a>"
      ]
    },
    {
      "cell_type": "markdown",
      "metadata": {
        "id": "VuI3Z8l1Ps8a"
      },
      "source": [
        "\n",
        "# **<center><font style=\"color:rgb(100,109,254)\">Indoor Human Fall Detection using Deep Learning</font> </center>**\n",
        "\n",
        "<center>\n"
      ]
    },
    {
      "cell_type": "markdown",
      "metadata": {
        "id": "mqVwu2LHKYNF"
      },
      "source": [
        "## **<font style=\"color:rgb(134,19,348)\"> Outline </font>**\n",
        "\n",
        "- **`Step 1:` Import Necessary libraries.**\n",
        "\n",
        "- **`Step 2:` Load features and labels from database**\n",
        "\n",
        "- **`Step 3:` Split the Data into Train and Test Set**\n",
        "\n",
        "- **`Step 4:` implement the LRCN Approach**\n",
        "\n",
        "    - **`Step 4.1:` Construct the Model**\n",
        "    \n",
        "    - **`Step 4.2:` Compile & Train the Model**\n",
        "    \n",
        "    - **`Step 4.3:` Plot Model’s Loss & Accuracy Curves**\n",
        "    \n",
        "- **`Step 5:` Test the Model**\n",
        "- **`Step 6:` Predict the Action on Video having series of actions.**"
      ]
    },
    {
      "cell_type": "markdown",
      "metadata": {
        "id": "RiAMJx7tr5-I"
      },
      "source": [
        "### **<font style=\"color:rgb(134,19,348)\"> Import the Libraries</font>**\n",
        "\n",
        "Installing and importing the required libraries."
      ]
    },
    {
      "cell_type": "code",
      "execution_count": null,
      "metadata": {
        "id": "X3AdbpZFCRR0"
      },
      "outputs": [],
      "source": [
        "%%capture\n",
        "# Import the required libraries.\n",
        "import os\n",
        "import cv2\n",
        "# import pafy\n",
        "import math\n",
        "import random\n",
        "import numpy as np\n",
        "import pandas as pd\n",
        "import datetime as dt\n",
        "import tensorflow as tf\n",
        "from collections import deque\n",
        "import matplotlib.pyplot as plt\n",
        "from sklearn.metrics import classification_report, confusion_matrix\n",
        "import seaborn as sns\n",
        "from moviepy.editor import *\n",
        "%matplotlib inline\n",
        "\n",
        "from sklearn.model_selection import train_test_split\n",
        "from sklearn import *\n",
        "import sklearn\n",
        "\n",
        "from tensorflow.keras.layers import *\n",
        "from tensorflow.keras.models import *\n",
        "from tensorflow.keras.utils import to_categorical\n",
        "from tensorflow.keras.utils import plot_model\n",
        "from tensorflow.keras.optimizers import Adam\n",
        "from tensorflow.keras.callbacks import ModelCheckpoint, EarlyStopping, ReduceLROnPlateau"
      ]
    },
    {
      "cell_type": "code",
      "execution_count": null,
      "metadata": {
        "colab": {
          "base_uri": "https://localhost:8080/"
        },
        "id": "3ss12G_su_hQ",
        "outputId": "02e5e4c6-5a6c-4e6d-d608-38c7926b7400"
      },
      "outputs": [
        {
          "output_type": "stream",
          "name": "stdout",
          "text": [
            "Found GPU at: /device:GPU:0\n"
          ]
        }
      ],
      "source": [
        "%tensorflow_version 2.x\n",
        "device_name = tf.test.gpu_device_name()\n",
        "if device_name != '/device:GPU:0':\n",
        "  raise SystemError('GPU device not found')\n",
        "print('Found GPU at: {}'.format(device_name))"
      ]
    },
    {
      "cell_type": "markdown",
      "metadata": {
        "id": "nxRZOCSfJkpc"
      },
      "source": [
        "And will set `Numpy`, `Python`, and `Tensorflow` seeds to get consistent results on every execution."
      ]
    },
    {
      "cell_type": "code",
      "execution_count": null,
      "metadata": {
        "id": "9AFIAq0Q0VwG"
      },
      "outputs": [],
      "source": [
        "seed_constant = 27\n",
        "np.random.seed(seed_constant)\n",
        "random.seed(seed_constant)\n",
        "tf.random.set_seed(seed_constant)"
      ]
    },
    {
      "cell_type": "code",
      "execution_count": null,
      "metadata": {
        "colab": {
          "base_uri": "https://localhost:8080/"
        },
        "id": "V8M8eqDZESJq",
        "outputId": "2bd26d2f-06a8-4493-ca7d-726d73d9fa53"
      },
      "outputs": [
        {
          "output_type": "stream",
          "name": "stdout",
          "text": [
            "Mounted at /content/drive\n"
          ]
        }
      ],
      "source": [
        "from google.colab import drive\n",
        "drive.mount('/content/drive')"
      ]
    },
    {
      "cell_type": "code",
      "execution_count": null,
      "metadata": {
        "id": "u4CiNKCcFAtR"
      },
      "outputs": [],
      "source": [
        "os.chdir(\"/content/drive/MyDrive/project/Dataset/NTU/modified\") #add path of project directory"
      ]
    },
    {
      "cell_type": "code",
      "execution_count": null,
      "metadata": {
        "id": "gb4Fv7Ag-kwb"
      },
      "outputs": [],
      "source": [
        "# Specify the height and width to which each video frame will be resized in our dataset.\n",
        "IMAGE_HEIGHT , IMAGE_WIDTH = 64, 64\n",
        "\n",
        "# Specify the number of frames of a video that will be fed to the model as one sequence.\n",
        "SEQUENCE_LENGTH = 25\n",
        "\n",
        "# Specify the directory containing the NTU dataset.\n",
        "DATASET_DIR = \"modified\"\n",
        "\n",
        "# Specify the list containing the names of the classes used for training.\n",
        "# CLASSES_LIST = [\"Sit down\",'falling down',\"Jump up\",\"Stand up\"]\n",
        "CLASSES_LIST = [\"Fall\", \"Non Fall\"]"
      ]
    },
    {
      "cell_type": "markdown",
      "metadata": {
        "id": "Lh9BAMqEsI0m"
      },
      "source": [
        "## **<font style=\"color:rgb(134,19,348)\">Step 1: Load the extracted features</font>**"
      ]
    },
    {
      "cell_type": "code",
      "execution_count": null,
      "metadata": {
        "colab": {
          "base_uri": "https://localhost:8080/"
        },
        "id": "_YuMjQ7X6cnx",
        "outputId": "9082db07-ec4d-4f28-d438-1450829c64df"
      },
      "outputs": [
        {
          "output_type": "execute_result",
          "data": {
            "text/plain": [
              "(1822, 25, 64, 64)"
            ]
          },
          "metadata": {},
          "execution_count": 12
        }
      ],
      "source": [
        "os.chdir(\"/content/drive/MyDrive/project/Dataset/NTU/modified/features\")\n",
        "features = np.load('gray_features_25_frames.npy')\n",
        "features.shape"
      ]
    },
    {
      "cell_type": "code",
      "execution_count": null,
      "metadata": {
        "colab": {
          "base_uri": "https://localhost:8080/"
        },
        "id": "WGpZxHQLvVcZ",
        "outputId": "288266af-b393-415a-caaf-d94b22679fae"
      },
      "outputs": [
        {
          "output_type": "execute_result",
          "data": {
            "text/plain": [
              "(1822,)"
            ]
          },
          "metadata": {},
          "execution_count": 13
        }
      ],
      "source": [
        "labels = np.load('gray_labels_25_frames.npy')\n",
        "labels.shape"
      ]
    },
    {
      "cell_type": "markdown",
      "metadata": {
        "id": "mindcEiZsqIM"
      },
      "source": [
        "## **<font style=\"color:rgb(134,19,348)\">Step 2: Encode labels with One-hot encoding technique</font>**"
      ]
    },
    {
      "cell_type": "markdown",
      "metadata": {
        "id": "goRGrc8_0Usb"
      },
      "source": [
        "Now we will convert `labels` (class indexes) into one-hot encoded vectors."
      ]
    },
    {
      "cell_type": "code",
      "execution_count": null,
      "metadata": {
        "colab": {
          "base_uri": "https://localhost:8080/"
        },
        "id": "KfcpuV6_Bd_T",
        "outputId": "0e455bf6-a1a5-44c8-fefc-b6af28ecea3e"
      },
      "outputs": [
        {
          "output_type": "execute_result",
          "data": {
            "text/plain": [
              "(2121, 4)"
            ]
          },
          "metadata": {},
          "execution_count": 11
        }
      ],
      "source": [
        "# Using Keras's to_categorical method to convert labels into one-hot-encoded vectors\n",
        "one_hot_encoded_labels = to_categorical(labels)\n",
        "one_hot_encoded_labels.shape"
      ]
    },
    {
      "cell_type": "markdown",
      "metadata": {
        "id": "PzRt7pP-0j5V"
      },
      "source": [
        "## **<font style=\"color:rgb(134,19,348)\">Step 3: Split the Data into Train and Test Set</font>**\n",
        "\n",
        "As of now, we have the required **`features`** (a NumPy array containing all the extracted frames of the videos) and **`one_hot_encoded_labels`** So now, we will split our data to create training and testing sets. In order to avoid any bias we shuffle the dataset before the spliting."
      ]
    },
    {
      "cell_type": "code",
      "execution_count": null,
      "metadata": {
        "colab": {
          "base_uri": "https://localhost:8080/"
        },
        "id": "UhkQjq1JJSO2",
        "outputId": "7dcca226-05e2-42f8-a774-f920a050f9f2"
      },
      "outputs": [
        {
          "output_type": "execute_result",
          "data": {
            "text/plain": [
              "((1366, 25, 64, 64), (1366, 2), (456, 25, 64, 64), (456, 2))"
            ]
          },
          "metadata": {},
          "execution_count": 10
        }
      ],
      "source": [
        "# Split the Data into Train ( 75% ) and Test Set ( 25% ).\n",
        "features_train, features_test, labels_train, labels_test = train_test_split(features, one_hot_encoded_labels,\n",
        "                                                                            test_size = 0.25, shuffle = True,\n",
        "                                                                            random_state = seed_constant)\n",
        "\n",
        "features_train.shape, labels_train.shape, features_test.shape, labels_test.shape"
      ]
    },
    {
      "cell_type": "markdown",
      "metadata": {
        "id": "clp7BFVDBNxp"
      },
      "source": [
        "## **<font style=\"color:rgb(134,19,348)\">Step 4: Implement the LRCN Approach</font>**\n",
        "\n",
        "In this step, we will implement Long-term Recurrent Convolutional Network (LRCN), which combines CNN and LSTM layers in a single model. The Convolutional layers are used for spatial feature extraction from the frames, and the extracted spatial features are fed to LSTM layer(s) at each time-steps for temporal sequence modeling. This way the network learns spatiotemporal features directly in an end-to-end training, resulting in a robust model."
      ]
    },
    {
      "cell_type": "code",
      "execution_count": null,
      "metadata": {
        "id": "HKM766mB1fIv"
      },
      "outputs": [],
      "source": [
        "# def create_LRCN_model():\n",
        "#     model = Sequential()\n",
        "\n",
        "#     model.add(TimeDistributed(Conv2D(16, (3, 3), padding='valid', kernel_initializer = \"he_uniform\", activation = 'relu'), input_shape = (SEQUENCE_LENGTH, IMAGE_HEIGHT, IMAGE_WIDTH,1)))\n",
        "#     model.add(TimeDistributed(Conv2D(16, (3, 3), padding='valid', kernel_initializer = \"he_uniform\", activation = 'relu')))\n",
        "#     model.add(TimeDistributed(MaxPooling2D((2, 2))))\n",
        "#     model.add(TimeDistributed(BatchNormalization(momentum=0.9)))\n",
        "#     model.add(TimeDistributed(Dropout(0.4)))\n",
        "\n",
        "#     model.add(TimeDistributed(Conv2D(32, (3, 3), padding='valid', kernel_initializer = \"he_uniform\", activation = 'relu')))\n",
        "#     model.add(TimeDistributed(Conv2D(32, (3, 3), padding='valid', kernel_initializer = \"he_uniform\", activation = 'relu')))\n",
        "#     model.add(TimeDistributed(MaxPooling2D((2, 2))))\n",
        "#     model.add(TimeDistributed(BatchNormalization(momentum=0.9)))\n",
        "#     model.add(TimeDistributed(Dropout(0.4)))\n",
        "\n",
        "#     model.add(TimeDistributed(Conv2D(64, (3, 3), padding='valid', kernel_initializer = \"he_uniform\", activation = 'relu')))\n",
        "#     model.add(TimeDistributed(Conv2D(64, (3, 3), padding='valid', kernel_initializer = \"he_uniform\", activation = 'relu')))\n",
        "#     model.add(TimeDistributed(MaxPooling2D((2, 2))))\n",
        "#     model.add(TimeDistributed(BatchNormalization(momentum=0.9)))\n",
        "#     model.add(TimeDistributed(Dropout(0.4)))\n",
        "\n",
        "#     model.add(TimeDistributed(Conv2D(128, (3, 3), padding='valid', kernel_initializer = \"he_uniform\", activation = 'relu')))\n",
        "#     # model.add(TimeDistributed(Conv2D(128, (3, 3), padding='valid', kernel_initializer = \"he_uniform\", activation = 'relu')))\n",
        "#     model.add(TimeDistributed(MaxPooling2D((2, 2))))\n",
        "#     model.add(TimeDistributed(BatchNormalization(momentum=0.9)))\n",
        "#     model.add(TimeDistributed(Dropout(0.4)))\n",
        "\n",
        "#     # model.add(TimeDistributed(Conv2D(256, (3, 3), padding='same', kernel_initializer = \"he_uniform\", activation = 'relu')))\n",
        "#     # # model.add(TimeDistributed(Conv2D(128, (3, 3), padding='valid', kernerl_initializer = \"he_uniform\", activation = 'relu')))\n",
        "#     # model.add(TimeDistributed(MaxPooling2D((2, 2))))\n",
        "#     # model.add(TimeDistributed(BatchNormalization(momentum=0.9)))\n",
        "#     # # model.add(TimeDistributed(Dropout(0.4)))\n",
        "\n",
        "#     model.add(TimeDistributed(Flatten()))\n",
        "\n",
        "#     model.add(LSTM(128,return_sequences=True))\n",
        "#     model.add(LSTM(32,return_sequences=False))\n",
        "\n",
        "#     model.add(Dense(len(CLASSES_LIST), activation = 'softmax'))\n",
        "\n",
        "#     # Display the models summary.\n",
        "#     model.summary()\n",
        "\n",
        "#     # Return the constructed LRCN model.\n",
        "#     return model"
      ]
    },
    {
      "cell_type": "code",
      "execution_count": null,
      "metadata": {
        "id": "XHAmVWlzXdo1"
      },
      "outputs": [],
      "source": [
        "conv_model = Sequential(\n",
        "    [\n",
        "     #CONV BLOCK 1\n",
        "      TimeDistributed(Conv2D(16, (3, 3), padding = \"same\", activation = \"relu\"), input_shape = (SEQUENCE_LENGTH, IMAGE_HEIGHT, IMAGE_WIDTH,1)),\n",
        "      TimeDistributed(MaxPooling2D((4, 4))),\n",
        "      TimeDistributed(Dropout(0.4)),\n",
        "\n",
        "      #CONV BLOCK 2\n",
        "      TimeDistributed(Conv2D(32, (3, 3), padding = \"same\", activation = \"relu\")),\n",
        "      TimeDistributed(MaxPooling2D((2, 2))),\n",
        "      TimeDistributed(Dropout(0.4)),\n",
        "\n",
        "      #CONV BLOCK 3\n",
        "      TimeDistributed(Conv2D(64, (3, 3), padding = \"same\", activation = \"relu\")),\n",
        "      TimeDistributed(MaxPooling2D((4, 4))),\n",
        "      TimeDistributed(Dropout(0.4)),\n",
        "\n",
        "      #CONV BLOCK 4\n",
        "      TimeDistributed(Conv2D(128, (3, 3), padding = \"same\", activation = \"relu\")),\n",
        "      TimeDistributed(MaxPooling2D((2, 2))),\n",
        "      TimeDistributed(Dropout(0.4)),\n",
        "\n",
        "      # #CONV BLOCK 5\n",
        "      # TimeDistributed(Conv2D(256, (3, 3), padding = \"same\", activation = \"relu\")),\n",
        "      # TimeDistributed(MaxPooling2D((2, 2))),\n",
        "      # TimeDistributed(Dropout(0.4)),\n",
        "\n",
        "      # #CONV BLOCK 6\n",
        "      # TimeDistributed(Conv2D(512, (3, 3), padding = \"same\", activation = \"relu\")),\n",
        "      # TimeDistributed(MaxPooling2D((2, 2))),\n",
        "      # TimeDistributed(Dropout(0.4)),\n",
        "      TimeDistributed(Flatten())\n",
        "])\n",
        "\n",
        "\n",
        "LSTM_model=Sequential([\n",
        "      #LSTM Layer 1 with 128 units\n",
        "      LSTM(128,return_sequences=True),\n",
        "      Dropout(0.4),\n",
        "      #LSTM Layer 2 with 32 units\n",
        "      LSTM(32,return_sequences=False),\n",
        "      Dropout(0.4)\n",
        "])\n",
        "\n",
        "Dense_model = Sequential([\n",
        "      # Dense(120, activation = \"relu\"),\n",
        "      # Dropout(0.5),\n",
        "      # Dense(84, activation = \"relu\"),\n",
        "      # Dropout(0.5),\n",
        "      Dense(len(CLASSES_LIST), activation=\"sigmoid\")\n",
        "])\n"
      ]
    },
    {
      "cell_type": "code",
      "execution_count": null,
      "metadata": {
        "id": "oQ-2FWT3DExi"
      },
      "outputs": [],
      "source": [
        "LRCN_model = load_model(\"/content/drive/MyDrive/project/Dataset/NTU/modified/LRCN Models/LRCN_model_Accuracy_0.903954803943634_Loss_0.2377118319272995_2022_04_05__10_46_59.h5\")"
      ]
    },
    {
      "cell_type": "code",
      "execution_count": null,
      "metadata": {
        "id": "EciCi3LdfJA5"
      },
      "outputs": [],
      "source": [
        "for i in range(13):\n",
        "  conv_model.layers[i]=new_model.layers[i]"
      ]
    },
    {
      "cell_type": "code",
      "execution_count": null,
      "metadata": {
        "id": "nVVHKJeBXA5V"
      },
      "outputs": [],
      "source": [
        "# LRCN_model=load_model(\"/content/drive/MyDrive/project/Dataset/NTU/modified/LRCN Models/LRCN_model_Accuracy_0.9758771657943726_Loss_0.1112920492887497_2022_04_06__06_15_47.h5\")"
      ]
    },
    {
      "cell_type": "code",
      "execution_count": null,
      "metadata": {
        "id": "tb0zhXmkWm6O"
      },
      "outputs": [],
      "source": [
        "LRCN_model = Sequential([conv_model,\n",
        "                         LSTM_model,\n",
        "                         Dense_model])\n",
        "\n",
        "conv_model.trainable = True\n",
        "LSTM_model.trainable = True\n",
        "Dense_model.trainable = True"
      ]
    },
    {
      "cell_type": "markdown",
      "metadata": {
        "id": "bHUPdK-fJkqD"
      },
      "source": [
        "Now we will utilize the function **`create_LRCN_model()`** created above to construct the required `LRCN` model."
      ]
    },
    {
      "cell_type": "code",
      "execution_count": null,
      "metadata": {
        "id": "ZJjC2VA2JkqD"
      },
      "outputs": [],
      "source": [
        "# # Construct the required LRCN model.\n",
        "# LRCN_model = create_LRCN_model()\n",
        "# print(\"Model Created Successfully!\")"
      ]
    },
    {
      "cell_type": "markdown",
      "metadata": {
        "id": "Px_gEcDbA5k4"
      },
      "source": [
        "#### **<font style=\"color:rgb(134,19,348)\">Check Model’s Structure:</font>**"
      ]
    },
    {
      "cell_type": "code",
      "execution_count": null,
      "metadata": {
        "colab": {
          "base_uri": "https://localhost:8080/",
          "height": 422
        },
        "id": "X8nAG3xYA5lW",
        "outputId": "e25adcdf-4572-493e-f28c-229fc56f5b4c"
      },
      "outputs": [
        {
          "data": {
            "image/png": "[encoded data removed]",
            "text/plain": [
              "<IPython.core.display.Image object>"
            ]
          },
          "execution_count": 17,
          "metadata": {},
          "output_type": "execute_result"
        }
      ],
      "source": [
        "plot_model(LRCN_model, to_file = 'LRCN_model_structure_plot.png', show_shapes = True)"
      ]
    },
    {
      "cell_type": "markdown",
      "metadata": {
        "id": "wsDrzxCDA5lX"
      },
      "source": [
        "### **<font style=\"color:rgb(134,19,348)\">Step 4.3: Compile & Train the Model</font>**\n",
        "\n",
        "\n",
        "After checking the structure, we will compile and start training the model."
      ]
    },
    {
      "cell_type": "code",
      "execution_count": null,
      "metadata": {
        "colab": {
          "base_uri": "https://localhost:8080/"
        },
        "id": "mtrQGXc8A5lY",
        "outputId": "5714c58a-b01b-488d-fc5d-49270610ed19"
      },
      "outputs": [
        {
          "output_type": "stream",
          "name": "stdout",
          "text": [
            "Epoch 1/200\n",
            "35/35 [==============================] - 23s 158ms/step - loss: 0.1046 - accuracy: 0.9661 - val_loss: 0.1132 - val_accuracy: 0.9380\n",
            "Epoch 2/200\n",
            "35/35 [==============================] - 4s 111ms/step - loss: 0.0750 - accuracy: 0.9734 - val_loss: 0.1897 - val_accuracy: 0.9416\n",
            "Epoch 3/200\n",
            "35/35 [==============================] - 4s 111ms/step - loss: 0.1040 - accuracy: 0.9661 - val_loss: 0.0987 - val_accuracy: 0.9672\n",
            "Epoch 4/200\n",
            "35/35 [==============================] - 4s 111ms/step - loss: 0.0716 - accuracy: 0.9725 - val_loss: 0.1374 - val_accuracy: 0.9453\n",
            "Epoch 5/200\n",
            "35/35 [==============================] - 4s 110ms/step - loss: 0.0919 - accuracy: 0.9707 - val_loss: 0.1186 - val_accuracy: 0.9489\n",
            "Epoch 6/200\n",
            "35/35 [==============================] - 4s 111ms/step - loss: 0.0854 - accuracy: 0.9707 - val_loss: 0.1259 - val_accuracy: 0.9453\n",
            "Epoch 7/200\n",
            "35/35 [==============================] - 4s 111ms/step - loss: 0.0871 - accuracy: 0.9725 - val_loss: 0.1175 - val_accuracy: 0.9562\n",
            "Epoch 8/200\n",
            "35/35 [==============================] - 4s 111ms/step - loss: 0.0855 - accuracy: 0.9689 - val_loss: 0.1725 - val_accuracy: 0.9380\n",
            "Epoch 9/200\n",
            "35/35 [==============================] - 4s 111ms/step - loss: 0.0550 - accuracy: 0.9789 - val_loss: 0.1468 - val_accuracy: 0.9489\n",
            "Epoch 10/200\n",
            "35/35 [==============================] - 4s 112ms/step - loss: 0.0615 - accuracy: 0.9799 - val_loss: 0.1162 - val_accuracy: 0.9453\n",
            "Epoch 11/200\n",
            "35/35 [==============================] - 4s 113ms/step - loss: 0.0503 - accuracy: 0.9844 - val_loss: 0.1368 - val_accuracy: 0.9526\n",
            "Epoch 12/200\n",
            "35/35 [==============================] - 4s 111ms/step - loss: 0.0599 - accuracy: 0.9789 - val_loss: 0.1301 - val_accuracy: 0.9453\n",
            "Epoch 13/200\n",
            "35/35 [==============================] - 4s 110ms/step - loss: 0.1154 - accuracy: 0.9597 - val_loss: 0.1178 - val_accuracy: 0.9635\n"
          ]
        }
      ],
      "source": [
        "# Create an Instance of Early Stopping Callback.\n",
        "early_stopping_callback = EarlyStopping(monitor = 'val_loss', patience = 10, mode = 'min', restore_best_weights = True)\n",
        "\n",
        "# Compile the model and specify loss function, optimizer and metrics to the model.\n",
        "LRCN_model.compile(loss = 'categorical_crossentropy', optimizer = \"adam\", metrics = [\"accuracy\"])\n",
        "\n",
        "# Start training the model.\n",
        "LRCN_model_training_history = LRCN_model.fit(x = features_train, y = labels_train, epochs = 200, batch_size = 32,\n",
        "                                             shuffle = True, validation_split = 0.2, callbacks = [early_stopping_callback])"
      ]
    },
    {
      "cell_type": "markdown",
      "metadata": {
        "id": "tMepQus5A5la"
      },
      "source": [
        "#### **<font style=\"color:rgb(134,19,348)\">Evaluating the trained Model</font>**\n"
      ]
    },
    {
      "cell_type": "code",
      "execution_count": null,
      "metadata": {
        "id": "se33GoeXrKBU"
      },
      "outputs": [],
      "source": [
        "# LRCN_model = load_model(\"/content/drive/MyDrive/project/Dataset/NTU/modified/LRCN Models/LRCN_model_Accuracy_0.9453860521316528_Loss_0.26018214225769043_2022_02_28__06_12_59.h5\")"
      ]
    },
    {
      "cell_type": "code",
      "execution_count": null,
      "metadata": {
        "colab": {
          "base_uri": "https://localhost:8080/"
        },
        "id": "ZwSYdhEFA5lb",
        "outputId": "9762b786-61df-4a99-8d0f-110c14d9529e"
      },
      "outputs": [
        {
          "output_type": "stream",
          "name": "stdout",
          "text": [
            "15/15 [==============================] - 1s 43ms/step - loss: 0.1008 - accuracy: 0.9715\n"
          ]
        }
      ],
      "source": [
        "# Evaluate the trained model.\n",
        "model_evaluation_history = LRCN_model.evaluate(features_test, labels_test)"
      ]
    },
    {
      "cell_type": "code",
      "execution_count": null,
      "metadata": {
        "id": "uCIlzZ2s_B-K"
      },
      "outputs": [],
      "source": [
        "# Visualize the training and validation loss metrices.\n",
        "plot_metric(LRCN_model_training_history, 'loss', 'val_loss', 'Training Loss vs Validation Loss')"
      ]
    },
    {
      "cell_type": "code",
      "execution_count": null,
      "metadata": {
        "id": "wMIdXjJs_WKJ"
      },
      "outputs": [],
      "source": [
        "# Visualize the training and validation accuracy metrices.\n",
        "plot_metric(LRCN_model_training_history, 'accuracy', 'val_accuracy', 'Training Accuracy vs Validation Accuracy')"
      ]
    },
    {
      "cell_type": "code",
      "execution_count": null,
      "metadata": {
        "colab": {
          "base_uri": "https://localhost:8080/",
          "height": 487
        },
        "id": "iHKmEubeO_Iw",
        "outputId": "b37fbbf6-062d-4bcd-c702-6cc54fa0cd4f"
      },
      "outputs": [
        {
          "output_type": "stream",
          "name": "stdout",
          "text": [
            "15/15 [==============================] - 2s 33ms/step\n",
            "[[229   5]\n",
            " [  8 214]]\n",
            "              precision    recall  f1-score   support\n",
            "\n",
            "        Fall       0.97      0.98      0.97       234\n",
            "    Non Fall       0.98      0.96      0.97       222\n",
            "\n",
            "    accuracy                           0.97       456\n",
            "   macro avg       0.97      0.97      0.97       456\n",
            "weighted avg       0.97      0.97      0.97       456\n",
            "\n"
          ]
        },
        {
          "output_type": "display_data",
          "data": {
            "text/plain": [
              "<Figure size 432x288 with 2 Axes>"
            ],
            "image/png": "[encoded data removed]"
          },
          "metadata": {
            "needs_background": "light"
          }
        }
      ],
      "source": [
        "ypred = LRCN_model.predict(features_test, verbose=1)\n",
        "ypred = np.argmax(ypred, axis=1)\n",
        "x = np.argmax(labels_test, axis=1)\n",
        "\n",
        "cm = confusion_matrix(x, ypred)\n",
        "print(cm)\n",
        "\n",
        "target_names = CLASSES_LIST\n",
        "# print('roc_auc_score for DecisionTree: ', roc_auc_score(x, ypred))\n",
        "\n",
        "print(classification_report(np.argmax(labels_test, axis=1), ypred, target_names=target_names))\n",
        "\n",
        "ax= plt.subplot()\n",
        "sns.heatmap(cm, annot=True, fmt='g', ax=ax);  #annot=True to annotate cells, ftm='g' to disable scientific notation\n",
        "# labels, title and ticks\n",
        "ax.set_xlabel('Predicted labels');\n",
        "ax.set_ylabel('True labels');\n",
        "ax.xaxis.set_ticklabels(target_names); ax.yaxis.set_ticklabels(target_names);\n"
      ]
    },
    {
      "cell_type": "markdown",
      "metadata": {
        "id": "bDs61KA-A5lc"
      },
      "source": [
        "### **<font style=\"color:rgb(134,19,348)\">Step 4.4: Plot Model’s Loss & Accuracy Curves</font>**"
      ]
    },
    {
      "cell_type": "code",
      "execution_count": null,
      "metadata": {
        "id": "G2SqZrXkC9_d"
      },
      "outputs": [],
      "source": [
        "def plot_metric(model_training_history, metric_name_1, metric_name_2, plot_name):\n",
        "\n",
        "    metric_value_1 = model_training_history.history[metric_name_1]\n",
        "    metric_value_2 = model_training_history.history[metric_name_2]\n",
        "\n",
        "    epochs = range(len(metric_value_1))\n",
        "\n",
        "    # Plot the Graph.\n",
        "    plt.plot(epochs, metric_value_1, 'blue', label = metric_name_1)\n",
        "    plt.plot(epochs, metric_value_2, 'red', label = metric_name_2)\n",
        "\n",
        "    plt.title(str(plot_name))\n",
        "\n",
        "    plt.legend()\n"
      ]
    },
    {
      "cell_type": "markdown",
      "metadata": {
        "id": "_SNLhkFNA5lb"
      },
      "source": [
        "#### **<font style=\"color:rgb(134,19,348)\">Save the Model</font>**"
      ]
    },
    {
      "cell_type": "code",
      "execution_count": null,
      "metadata": {
        "id": "R6nD8oMqA5lc"
      },
      "outputs": [],
      "source": [
        "# Get the loss and accuracy from model_evaluation_history.\n",
        "model_evaluation_loss, model_evaluation_accuracy = model_evaluation_history\n",
        "\n",
        "date_time_format = '%Y_%m_%d__%H_%M_%S'\n",
        "current_date_time_dt = dt.datetime.now()\n",
        "current_date_time_string = dt.datetime.strftime(current_date_time_dt, date_time_format)\n",
        "\n",
        "model_file_name = f'LRCN_model_Accuracy_{model_evaluation_accuracy}_Loss_{model_evaluation_loss}_{current_date_time_string}.h5'\n",
        "os.chdir(\"/content/drive/MyDrive/project/Dataset/NTU/modified/LRCN Models\")\n",
        "# Save the Model.\n",
        "LRCN_model.save(model_file_name)"
      ]
    },
    {
      "cell_type": "markdown",
      "metadata": {
        "id": "9lcqc-SJh2Lv"
      },
      "source": [
        "### **<font style=\"color:rgb(134,19,348)\">Testing on a Video:</font>**\n"
      ]
    },
    {
      "cell_type": "code",
      "execution_count": null,
      "metadata": {
        "id": "XmkKn2ZCY_cC"
      },
      "outputs": [],
      "source": [
        "# Make the Output directory if it does not exist\n",
        "test_videos_directory = 'test_videos'\n",
        "os.makedirs(test_videos_directory, exist_ok = True)\n",
        "\n",
        "video_title = \"model_output\"\n",
        "\n",
        "input_video_file_path = \"/content/drive/MyDrive/NTU/modified/test_videos/S012C001P007R001A008_rgb.mp4\""
      ]
    },
    {
      "cell_type": "markdown",
      "metadata": {
        "id": "SlNbq9eggXno"
      },
      "source": [
        "### **<font style=\"color:rgb(134,19,348)\">Create a Function To Perform Action Recognition on Videos</font>**"
      ]
    },
    {
      "cell_type": "code",
      "execution_count": null,
      "metadata": {
        "id": "fUGRa7XCSSNS"
      },
      "outputs": [],
      "source": [
        "def predict_on_video(video_file_path, output_file_path, SEQUENCE_LENGTH):\n",
        "    '''\n",
        "    Args:\n",
        "    video_file_path:  The path of the video stored in the disk on which the action recognition is to be performed.\n",
        "    output_file_path: The path where the ouput video with the predicted action being performed overlayed will be stored.\n",
        "    SEQUENCE_LENGTH:  The fixed number of frames of a video that can be passed to the model as one sequence.\n",
        "    '''\n",
        "\n",
        "    # Initialize the VideoCapture object to read from the video file.\n",
        "    video_reader = cv2.VideoCapture(video_file_path)\n",
        "\n",
        "    # Get the width and height of the video.\n",
        "    original_video_width = int(video_reader.get(cv2.CAP_PROP_FRAME_WIDTH))\n",
        "    original_video_height = int(video_reader.get(cv2.CAP_PROP_FRAME_HEIGHT))\n",
        "\n",
        "    # Initialize the VideoWriter Object to store the output video in the disk.\n",
        "    video_writer = cv2.VideoWriter(output_file_path, cv2.VideoWriter_fourcc('M', 'P', '4', 'V'),\n",
        "                                   video_reader.get(cv2.CAP_PROP_FPS), (original_video_width, original_video_height))\n",
        "\n",
        "    # Declare a queue to store video frames.\n",
        "    frames_queue = deque(maxlen = SEQUENCE_LENGTH)\n",
        "    Q = deque(maxlen = 5)\n",
        "\n",
        "    # Initialize a variable to store the predicted action being performed in the video.\n",
        "    predicted_class_name = ''\n",
        "\n",
        "    # Iterate until the video is accessed successfully.\n",
        "    while video_reader.isOpened():\n",
        "\n",
        "        # Read the frame.\n",
        "        ok, frame = video_reader.read()\n",
        "\n",
        "        # Check if frame is not read properly then break the loop.\n",
        "        if not ok:\n",
        "            break\n",
        "\n",
        "        # Convert RGB frame to Gray Scale\n",
        "        gframe = cv2.cvtColor(frame, cv2.COLOR_BGR2GRAY)\n",
        "\n",
        "        # Resize the Frame to fixed Dimensions.\n",
        "        resized_frame = cv2.resize(gframe, (IMAGE_HEIGHT, IMAGE_WIDTH))\n",
        "\n",
        "        # Normalize the resized frame by dividing it with 255 so that each pixel value then lies between 0 and 1.\n",
        "        normalized_frame = resized_frame / 255\n",
        "\n",
        "        # Appending the pre-processed frame into the frames list.\n",
        "        frames_queue.append(normalized_frame)\n",
        "\n",
        "        # Check if the number of frames in the queue are equal to the fixed sequence length.\n",
        "        if len(frames_queue) == SEQUENCE_LENGTH:\n",
        "\n",
        "            # Pass the normalized frames to the model and get the predicted probabilities.\n",
        "            predicted_labels_probabilities = LRCN_model.predict(np.expand_dims(frames_queue, axis = 0))[0]\n",
        "\n",
        "            # Get the index of class with highest probability.\n",
        "            predicted_label = np.argmax(predicted_labels_probabilities)\n",
        "\n",
        "            # Get the class name using the retrieved index.\n",
        "            predicted_class_name = CLASSES_LIST[predicted_label]\n",
        "\n",
        "        if predicted_label==1:\n",
        "          Q.append(predicted_label)\n",
        "        else:\n",
        "          Q.append(0)\n",
        "\n",
        "        if len(Q)==5:\n",
        "          # Write Fall/Non-Fall class name on top of the frame.\n",
        "          if sum(Q)/5 > 0.5:\n",
        "            cv2.putText(frame, \"Falling\", (50, 80), cv2.FONT_HERSHEY_SIMPLEX, 5, (0, 0, 255), 2)\n",
        "          else:\n",
        "            cv2.putText(frame, \"Non-Falling\", (50, 80), cv2.FONT_HERSHEY_SIMPLEX, 5, (0, 0, 0), 2)\n",
        "\n",
        "        # Write The frame into the disk using the VideoWriter Object.\n",
        "        video_writer.write(frame)\n",
        "\n",
        "    # Release the VideoCapture and VideoWriter objects.\n",
        "    video_reader.release()\n",
        "    video_writer.release()"
      ]
    },
    {
      "cell_type": "markdown",
      "metadata": {
        "id": "Mbdl0S2_iG9Z"
      },
      "source": [
        "### **<font style=\"color:rgb(134,19,348)\">Perform Action Recognition on the Test Video</font>**\n"
      ]
    },
    {
      "cell_type": "code",
      "execution_count": null,
      "metadata": {
        "id": "GUY1Rn0gi0AP"
      },
      "outputs": [],
      "source": [
        "# Construct the output video path.\n",
        "os.chdir(\"/content/drive/MyDrive/project/Dataset/NTU/modified\")\n",
        "output_video_file_path = f'{test_videos_directory}/{video_title}-Output-SeqLen{SEQUENCE_LENGTH}.mp4'\n",
        "\n",
        "# Perform Action Recognition on the Test Video.\n",
        "predict_on_video(input_video_file_path, output_video_file_path, SEQUENCE_LENGTH)\n",
        "\n",
        "# # Display the output video.\n",
        "# VideoFileClip(output_video_file_path, audio=False, target_resolution=(300,None)).ipython_display()"
      ]
    },
    {
      "cell_type": "code",
      "source": [
        "os.getcwd()"
      ],
      "metadata": {
        "colab": {
          "base_uri": "https://localhost:8080/",
          "height": 35
        },
        "id": "iSkTsoJiDTOk",
        "outputId": "6ae709e1-3978-4cec-d4a7-874e60e541c8"
      },
      "execution_count": null,
      "outputs": [
        {
          "output_type": "execute_result",
          "data": {
            "text/plain": [
              "'/content/drive/MyDrive/project/Dataset/NTU'"
            ],
            "application/vnd.google.colaboratory.intrinsic+json": {
              "type": "string"
            }
          },
          "metadata": {},
          "execution_count": 12
        }
      ]
    }
  ],
  "metadata": {
    "colab": {
      "provenance": [],
      "include_colab_link": true
    },
    "kernelspec": {
      "display_name": "Python 3",
      "language": "python",
      "name": "python3"
    },
    "language_info": {
      "codemirror_mode": {
        "name": "ipython",
        "version": 3
      },
      "file_extension": ".py",
      "mimetype": "text/x-python",
      "name": "python",
      "nbconvert_exporter": "python",
      "pygments_lexer": "ipython3",
      "version": "3.8.8"
    }
  },
  "nbformat": 4,
  "nbformat_minor": 0
}